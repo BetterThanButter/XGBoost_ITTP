{
 "cells": [
  {
   "cell_type": "code",
   "execution_count": 91,
   "metadata": {
    "_cell_guid": "4937cc6b-1fa7-4424-a283-292f6af1abd6",
    "_uuid": "8100fa956d55003ba6c4be1e194e11184e3aa77a"
   },
   "outputs": [],
   "source": [
    "import tqdm \n",
    "import numpy as np\n",
    "import pandas as pd\n",
    "import matplotlib.pyplot as plt\n",
    "import seaborn as sns\n",
    "from scipy import stats\n",
    "from scipy.stats import norm, skew\n",
    "\n",
    "from sklearn.model_selection import train_test_split\n",
    "from sklearn.ensemble import RandomForestRegressor \n",
    "from sklearn.metrics import r2_score, make_scorer, mean_squared_error \n"
   ]
  },
  {
   "cell_type": "code",
   "execution_count": 92,
   "metadata": {
    "_cell_guid": "64b71113-f6d0-4e1b-aa4e-b3aca386de2b",
    "_uuid": "1604aab797ba2b03323cf72e1eb156784ad870ad"
   },
   "outputs": [],
   "source": [
    "\n",
    "training = pd.read_csv('train.csv')\n",
    "test = pd.read_csv('test.csv')\n",
    "\n",
    "df_train = training.copy()\n",
    "df_test = test.copy()"
   ]
  },
  {
   "cell_type": "code",
   "execution_count": 93,
   "metadata": {
    "_cell_guid": "b5128799-0ea9-4ce1-b02e-f41e44767292",
    "_uuid": "50ec88c02b7bc264cb96601624e29722c9429407"
   },
   "outputs": [],
   "source": [
    "target = df_train['SalePrice']  \n",
    "df_train = df_train.drop('SalePrice', axis=1) \n",
    "df_train['training_set'] = True \n",
    "df_test['training_set'] = False\n",
    "df_full = pd.concat([df_train, df_test]) "
   ]
  },
  {
   "cell_type": "code",
   "execution_count": 94,
   "metadata": {
    "_cell_guid": "4497cf0a-f897-45ba-9649-a4278ce8bf3a",
    "_uuid": "aff043ce793ec46ba5f9b6962e7d931f4c73f73e"
   },
   "outputs": [],
   "source": [
    "df_full.drop('Id', axis=1, inplace=True)"
   ]
  },
  {
   "cell_type": "code",
   "execution_count": 95,
   "metadata": {
    "_cell_guid": "b1583e8a-a313-4a12-aa39-653b4ed80b44",
    "_uuid": "66a97b8a8be16977c1fe7dcfcc1057bc91f9fd01",
    "scrolled": false
   },
   "outputs": [],
   "source": [
    "# corrmat = training.corr()\n",
    "# plt.subplots(figsize=(10,10))\n",
    "# sns.heatmap(corrmat,square=True, cmap=\"YlGnBu\");"
   ]
  },
  {
   "cell_type": "code",
   "execution_count": null,
   "metadata": {
    "_cell_guid": "d4e65116-3b65-4834-8273-910995316f5e",
    "_uuid": "58feae41f0c05a2c278a4a47c4158256baa44269"
   },
   "outputs": [],
   "source": [
    "\n"
   ]
  },
  {
   "cell_type": "code",
   "execution_count": 96,
   "metadata": {
    "_cell_guid": "71e6fac4-3bb9-4617-93ae-02b4bc4aa5a4",
    "_uuid": "25c79114682fd7d07c8414a67bfe059e02fb5c89"
   },
   "outputs": [],
   "source": [
    "#логанем таргет\n",
    "target = np.log(target)\n",
    "\n",
    "perc_na = (df_full.isnull().sum()/len(df_full))*100\n",
    "ratio_na = perc_na.sort_values(ascending=False)\n",
    "missing_data = pd.DataFrame({'Missing Ratio' :ratio_na})\n"
   ]
  },
  {
   "cell_type": "code",
   "execution_count": 98,
   "metadata": {
    "_cell_guid": "b57d4cc8-ccbe-4610-af95-9980f1e70b3f",
    "_uuid": "3fe3824c3aec4c39ddb90982f72ff74748f683fd"
   },
   "outputs": [],
   "source": [
    "#Отнормируем и уберем NaN\n",
    "numeric_variables = list(df_full.select_dtypes(include=['int64', 'float64']).columns.values)\n",
    "df_full[numeric_variables] = df_full[numeric_variables].apply(lambda x: x.fillna(x.median()),axis=0)"
   ]
  },
  {
   "cell_type": "code",
   "execution_count": 99,
   "metadata": {
    "_cell_guid": "565e0585-f946-4c59-af41-844263991049",
    "_uuid": "d524ed088a32c0a4f89881ebc1507f3bfcbda871"
   },
   "outputs": [],
   "source": [
    "#Отнормируем и уберем NaN\n",
    "categorial_variables = list(df_full.select_dtypes(exclude=['int64', 'float64', 'bool']).columns.values)\n",
    "df_full[categorial_variables] = df_full[categorial_variables].apply(lambda x: x.fillna(\"None\"),axis=0)"
   ]
  },
  {
   "cell_type": "code",
   "execution_count": 100,
   "metadata": {
    "_cell_guid": "38e9fe63-b576-4e84-b22c-1aed76e065ba",
    "_uuid": "13752f84db7010b8bcb82251ece1141b645b0446"
   },
   "outputs": [],
   "source": [
    "perc_na = (df_full.isnull().sum()/len(df_full))*100\n",
    "ratio_na = perc_na.sort_values(ascending=False)\n",
    "missing_data = pd.DataFrame({'missing_ratio' :ratio_na})\n",
    "missing_data = missing_data.drop(missing_data[missing_data.missing_ratio == 0].index)\n"
   ]
  },
  {
   "cell_type": "code",
   "execution_count": 101,
   "metadata": {
    "_cell_guid": "78edbbaf-43a4-477c-8028-d986d6ae556a",
    "_uuid": "3e259af152989fa49675efb485ee9e1bddf7e279"
   },
   "outputs": [],
   "source": [
    "\n",
    "df_full = pd.get_dummies(df_full)"
   ]
  },
  {
   "cell_type": "code",
   "execution_count": 102,
   "metadata": {
    "_cell_guid": "cc12dc00-ae7d-4a9e-a54b-14208e04af8d",
    "_uuid": "3e4379629f0d40f28c7744aa8a754e944642860c"
   },
   "outputs": [],
   "source": [
    "df_train = df_full[df_full['training_set']==True]\n",
    "df_train = df_train.drop('training_set', axis=1)\n",
    "df_test = df_full[df_full['training_set']==False]\n",
    "df_test = df_test.drop('training_set', axis=1)"
   ]
  },
  {
   "cell_type": "code",
   "execution_count": 103,
   "metadata": {
    "_cell_guid": "bd2857f9-bbc8-43c3-8b33-9f747901f2b7",
    "_uuid": "009814088303cd05a3ca7a2b135873f538278c46"
   },
   "outputs": [
    {
     "data": {
      "text/plain": [
       "((1460, 310), (1459, 310))"
      ]
     },
     "execution_count": 103,
     "metadata": {},
     "output_type": "execute_result"
    }
   ],
   "source": [
    "(df_train.shape, df_test.shape)"
   ]
  },
  {
   "cell_type": "code",
   "execution_count": 104,
   "metadata": {
    "_cell_guid": "ed40e2c5-6c66-416c-9251-7834fef5baf6",
    "_uuid": "7fc3032d0e3ecdd6f7c9865935baa3f9247c6d3d"
   },
   "outputs": [],
   "source": [
    "X_train, X_test, y_train, y_test = train_test_split(df_train, target, random_state=42)"
   ]
  },
  {
   "cell_type": "markdown",
   "metadata": {
    "_cell_guid": "f8e69491-0b86-4213-bf42-12ac5759240d",
    "_uuid": "83325294469a08b4294a35024966a2906a061cad"
   },
   "source": [
    "### Random Forest"
   ]
  },
  {
   "cell_type": "code",
   "execution_count": 105,
   "metadata": {
    "_cell_guid": "7d826f51-bcc5-4e1a-923e-41655f836a68",
    "_uuid": "a857b6ed8e645ecaed8125dfde37466e43e1edab"
   },
   "outputs": [],
   "source": [
    "rf_model = RandomForestRegressor(n_estimators=110, n_jobs=-1, max_depth = 15, min_samples_leaf=2)"
   ]
  },
  {
   "cell_type": "code",
   "execution_count": 106,
   "metadata": {
    "_cell_guid": "7692b11d-f045-4eb8-bba4-40ef8a0f7027",
    "_uuid": "3dfcea660d526ac29ec0b1d43a1d5298e35fb896"
   },
   "outputs": [],
   "source": [
    "rf_model.fit(X_train, y_train)\n",
    "y_predict = rf_model.predict(X_test)"
   ]
  },
  {
   "cell_type": "markdown",
   "metadata": {
    "_cell_guid": "2786f2b0-8ad4-4bcd-9f3d-c4f4369c646f",
    "_uuid": "0079e03aafa0f6efdd9a8b9a08e4bc8697ea2a1b"
   },
   "source": [
    "###  XGBoost"
   ]
  },
  {
   "cell_type": "code",
   "execution_count": 107,
   "metadata": {
    "_cell_guid": "0e640811-660d-4d13-a4a6-01791c383079",
    "_uuid": "76e83df89293da140ffc80d1ef7807126193d24f"
   },
   "outputs": [],
   "source": [
    "import xgboost as xgb\n",
    "xgb_regressor = xgb.XGBRegressor(random_state=42)"
   ]
  },
  {
   "cell_type": "code",
   "execution_count": 108,
   "metadata": {
    "_uuid": "76f9d3b4fefcd9ac0d4559a6ccb35de4f406a0bb"
   },
   "outputs": [],
   "source": [
    "xgb_opt = xgb.XGBRegressor(\n",
    "    learning_rate = 0.05,\n",
    "    max_depth = 5,\n",
    "    min_child_weight = 1.5,\n",
    "    n_estimators = 7500,                                                                  \n",
    "    seed = 42,\n",
    "    silent = 1)"
   ]
  },
  {
   "cell_type": "code",
   "execution_count": 109,
   "metadata": {
    "_cell_guid": "1b87addd-0972-455e-ba71-a4376f57f64d",
    "_uuid": "c714b09124e0e74cd98dd38a39d3ad5640637d2b"
   },
   "outputs": [
    {
     "name": "stderr",
     "output_type": "stream",
     "text": [
      "/home/agavrilenko/anaconda3/lib/python3.6/site-packages/xgboost/core.py:587: FutureWarning: Series.base is deprecated and will be removed in a future version\n",
      "  if getattr(data, 'base', None) is not None and \\\n"
     ]
    }
   ],
   "source": [
    "xgb_opt.fit(X_train, y_train)\n",
    "xgb_opt_predict = xgb_opt.predict(X_test) "
   ]
  },
  {
   "cell_type": "markdown",
   "metadata": {
    "_cell_guid": "9b8c7fea-2cc5-46c0-9ef9-685fe7a9dd40",
    "_uuid": "f4900f8b357bf701a47f2f39545a0f44631c6eaa"
   },
   "source": [
    "### Lasso Regressor"
   ]
  },
  {
   "cell_type": "code",
   "execution_count": 110,
   "metadata": {
    "_cell_guid": "34a13b37-09f0-45c0-966a-62422d52a4ef",
    "_uuid": "bfdad1438f5001fdc321373bc12cd505a055fead"
   },
   "outputs": [],
   "source": [
    "from sklearn.linear_model import Lasso\n",
    "lasso_regr = Lasso(random_state=42, max_iter = 30000, alpha = 0.001)"
   ]
  },
  {
   "cell_type": "code",
   "execution_count": 111,
   "metadata": {
    "_cell_guid": "55a3d9f2-3afa-47c3-a078-9844e72e9b6b",
    "_uuid": "70a570176bbcd8571b345b534661ef4e02f0695a"
   },
   "outputs": [],
   "source": [
    "lasso_regr.fit(X_train, y_train)\n",
    "lasso_opt_predict = lasso_regr.predict(X_test) "
   ]
  },
  {
   "cell_type": "markdown",
   "metadata": {
    "_cell_guid": "a677fa25-2b27-49fa-883b-f77788f45bbb",
    "_uuid": "27226fc7293249c7a3fde31e988add702c470fc9"
   },
   "source": [
    "### Сравним"
   ]
  },
  {
   "cell_type": "code",
   "execution_count": 112,
   "metadata": {
    "_cell_guid": "cb97b59d-678d-46d1-8479-53adf6214375",
    "_uuid": "15f8f5368f06c76addd6bcbed4ea8cf5b9863890"
   },
   "outputs": [],
   "source": [
    "rf_r2 = r2_score(y_test, y_predict)\n",
    "rf_mse = mean_squared_error(y_test, y_predict)\n",
    "\n",
    "xgb_r2 = r2_score(y_test, xgb_opt_predict)\n",
    "xgb_mse = mean_squared_error(y_test, xgb_opt_predict)\n",
    "\n",
    "lasso_r2 = r2_score(y_test, lasso_opt_predict)\n",
    "lasso_mse = mean_squared_error(y_test, lasso_opt_predict)"
   ]
  },
  {
   "cell_type": "code",
   "execution_count": 113,
   "metadata": {
    "_cell_guid": "133784e2-25b3-4c7f-9ac8-1d81b57cb179",
    "_uuid": "9c9864501faa11ef4b5df18a86495f34720f7ca4",
    "scrolled": false
   },
   "outputs": [
    {
     "data": {
      "text/html": [
       "<div>\n",
       "<style scoped>\n",
       "    .dataframe tbody tr th:only-of-type {\n",
       "        vertical-align: middle;\n",
       "    }\n",
       "\n",
       "    .dataframe tbody tr th {\n",
       "        vertical-align: top;\n",
       "    }\n",
       "\n",
       "    .dataframe thead th {\n",
       "        text-align: right;\n",
       "    }\n",
       "</style>\n",
       "<table border=\"1\" class=\"dataframe\">\n",
       "  <thead>\n",
       "    <tr style=\"text-align: right;\">\n",
       "      <th></th>\n",
       "      <th>RandomForest</th>\n",
       "      <th>XGBoost</th>\n",
       "      <th>Lasso</th>\n",
       "    </tr>\n",
       "  </thead>\n",
       "  <tbody>\n",
       "    <tr>\n",
       "      <th>R2</th>\n",
       "      <td>0.884738</td>\n",
       "      <td>0.886499</td>\n",
       "      <td>0.899444</td>\n",
       "    </tr>\n",
       "    <tr>\n",
       "      <th>Mean Squared Error</th>\n",
       "      <td>0.019959</td>\n",
       "      <td>0.019654</td>\n",
       "      <td>0.017412</td>\n",
       "    </tr>\n",
       "  </tbody>\n",
       "</table>\n",
       "</div>"
      ],
      "text/plain": [
       "                    RandomForest   XGBoost     Lasso\n",
       "R2                      0.884738  0.886499  0.899444\n",
       "Mean Squared Error      0.019959  0.019654  0.017412"
      ]
     },
     "execution_count": 113,
     "metadata": {},
     "output_type": "execute_result"
    }
   ],
   "source": [
    "\n",
    "d = {'RandomForest': [rf_r2, rf_mse], \n",
    "     'XGBoost': [xgb_r2, xgb_mse], \n",
    "     'Lasso': [lasso_r2, lasso_mse]}\n",
    "d_i = ['R2', 'Mean Squared Error']\n",
    "df_results = pd.DataFrame(data=d, index = d_i)\n",
    "df_results"
   ]
  },
  {
   "cell_type": "code",
   "execution_count": null,
   "metadata": {
    "_cell_guid": "74478c6e-531c-4f35-a384-77bd378605f5",
    "_uuid": "c977ce8ccb8505c46e8000121683f8a58fe492c0"
   },
   "outputs": [],
   "source": []
  },
  {
   "cell_type": "code",
   "execution_count": null,
   "metadata": {},
   "outputs": [],
   "source": []
  }
 ],
 "metadata": {
  "kernelspec": {
   "display_name": "Python 3",
   "language": "python",
   "name": "python3"
  },
  "language_info": {
   "codemirror_mode": {
    "name": "ipython",
    "version": 3
   },
   "file_extension": ".py",
   "mimetype": "text/x-python",
   "name": "python",
   "nbconvert_exporter": "python",
   "pygments_lexer": "ipython3",
   "version": "3.6.5"
  }
 },
 "nbformat": 4,
 "nbformat_minor": 1
}
